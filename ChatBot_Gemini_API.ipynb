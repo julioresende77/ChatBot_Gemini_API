{
  "nbformat": 4,
  "nbformat_minor": 0,
  "metadata": {
    "colab": {
      "provenance": [],
      "toc_visible": true,
      "authorship_tag": "ABX9TyMjgjAYQoD2++2alBp/Y3PQ",
      "include_colab_link": true
    },
    "kernelspec": {
      "name": "python3",
      "display_name": "Python 3"
    },
    "language_info": {
      "name": "python"
    }
  },
  "cells": [
    {
      "cell_type": "markdown",
      "metadata": {
        "id": "view-in-github",
        "colab_type": "text"
      },
      "source": [
        "<a href=\"https://colab.research.google.com/github/julioresende77/ChatBot_Gemini_API/blob/main/ChatBot_Gemini_API.ipynb\" target=\"_parent\"><img src=\"https://colab.research.google.com/assets/colab-badge.svg\" alt=\"Open In Colab\"/></a>"
      ]
    },
    {
      "cell_type": "markdown",
      "source": [
        "### **Instalando o SDK do Google**"
      ],
      "metadata": {
        "id": "_uEZjpny1Zen"
      }
    },
    {
      "cell_type": "code",
      "execution_count": 42,
      "metadata": {
        "id": "06WTwMvIv6Qg"
      },
      "outputs": [],
      "source": [
        "!pip install -q -U google-generativeai"
      ]
    },
    {
      "cell_type": "markdown",
      "source": [
        "### **Importando o SDK do Python**"
      ],
      "metadata": {
        "id": "fbU8IPPG2e7D"
      }
    },
    {
      "cell_type": "code",
      "source": [
        "import google.generativeai as genai\n",
        "from google.colab import userdata\n",
        "api_key = userdata.get(\"secret_key\")\n",
        "genai.configure(api_key=api_key)"
      ],
      "metadata": {
        "id": "HCg3ggWyx0nC"
      },
      "execution_count": 43,
      "outputs": []
    },
    {
      "cell_type": "markdown",
      "source": [
        "### **Listar os modelos disponíveis**"
      ],
      "metadata": {
        "id": "PX9oHrjL2JFV"
      }
    },
    {
      "cell_type": "code",
      "source": [
        "for m in genai.list_models():\n",
        "  if 'generateContent' in m.supported_generation_methods:\n",
        "    print(m.name)"
      ],
      "metadata": {
        "colab": {
          "base_uri": "https://localhost:8080/",
          "height": 139
        },
        "id": "3pzYT9JHzcpm",
        "outputId": "3e701435-601a-4459-f906-231a344821d4"
      },
      "execution_count": 44,
      "outputs": [
        {
          "output_type": "stream",
          "name": "stdout",
          "text": [
            "models/gemini-1.0-pro\n",
            "models/gemini-1.0-pro-001\n",
            "models/gemini-1.0-pro-latest\n",
            "models/gemini-1.0-pro-vision-latest\n",
            "models/gemini-1.5-pro-latest\n",
            "models/gemini-pro\n",
            "models/gemini-pro-vision\n"
          ]
        }
      ]
    },
    {
      "cell_type": "code",
      "source": [
        "generation_config = {\n",
        "    \"candidate_count\": 1,\n",
        "    \"temperature\": 0.5,\n",
        "}"
      ],
      "metadata": {
        "id": "HFd3bE8q4__u"
      },
      "execution_count": 45,
      "outputs": []
    },
    {
      "cell_type": "code",
      "source": [
        "safety_settings = {\n",
        "    \"HARASSMENT\": \"BLOCK_NONE\",\n",
        "    \"HATE\": \"BLOCK_NONE\",\n",
        "    \"SEXUAL\": \"BLOCK_NONE\",\n",
        "    \"DANGEROUS\": \"BLOCK_NONE\",\n",
        "}"
      ],
      "metadata": {
        "id": "HTYqyUnO6Jit"
      },
      "execution_count": 46,
      "outputs": []
    },
    {
      "cell_type": "markdown",
      "source": [
        "### **Inicializando o modelo**"
      ],
      "metadata": {
        "id": "TqXS06be65V0"
      }
    },
    {
      "cell_type": "code",
      "source": [
        "model = genai.GenerativeModel(model_name=\"gemini-1.0-pro\",\n",
        "                              generation_config=generation_config,\n",
        "                              safety_settings=safety_settings)"
      ],
      "metadata": {
        "id": "7AEYL0Tz7CBf"
      },
      "execution_count": 47,
      "outputs": []
    },
    {
      "cell_type": "code",
      "source": [
        "response = model.generate_content(\"Vamos aprender conteúdo sobre IA. Me ensine como se eu fosse uma criança de 9 anos.\")\n",
        "print(response.text)"
      ],
      "metadata": {
        "colab": {
          "base_uri": "https://localhost:8080/",
          "height": 471
        },
        "collapsed": true,
        "id": "PH7fwaz_9AiB",
        "outputId": "52a52ee3-ac0d-4b4f-b805-0bf4bec55603"
      },
      "execution_count": 48,
      "outputs": [
        {
          "output_type": "stream",
          "name": "stdout",
          "text": [
            "**O que é Inteligência Artificial (IA)?**\n",
            "\n",
            "Imagina um computador que pode pensar como uma pessoa, mas muito mais rápido e melhor! Isso é a IA.\n",
            "\n",
            "**Como a IA funciona?**\n",
            "\n",
            "Os computadores com IA são treinados com muitos dados, como fotos, textos e vídeos. Eles aprendem a identificar padrões e fazer previsões com base nesses dados.\n",
            "\n",
            "**Por que a IA é importante?**\n",
            "\n",
            "A IA pode ajudar em muitas coisas, como:\n",
            "\n",
            "* **Tornar nossos carros mais seguros:** Os carros com IA podem detectar obstáculos e frear automaticamente para evitar acidentes.\n",
            "* **Traduzir idiomas:** A IA pode traduzir textos e conversas de um idioma para outro em tempo real.\n",
            "* **Criar arte:** A IA pode gerar pinturas, músicas e até mesmo escrever histórias.\n",
            "\n",
            "**Como a IA pode me ajudar?**\n",
            "\n",
            "A IA pode ajudar você de várias maneiras, como:\n",
            "\n",
            "* **Recomendar filmes e programas de TV:** A IA pode aprender seus gostos e recomendar entretenimento que você vai adorar.\n",
            "* **Responder perguntas:** A IA pode responder suas perguntas sobre o mundo, como \"Qual é a capital da França?\"\n",
            "* **Jogar jogos:** A IA pode jogar jogos contra você ou até mesmo criar seus próprios jogos.\n",
            "\n",
            "**A IA é como um supercomputador que pode aprender e nos ajudar a fazer muitas coisas legais!**\n"
          ]
        }
      ]
    },
    {
      "cell_type": "markdown",
      "source": [
        "### **Melhorando a visualização**"
      ],
      "metadata": {
        "id": "1l8-dSA-DwyX"
      }
    },
    {
      "cell_type": "code",
      "source": [
        "import textwrap\n",
        "from IPython.display import display\n",
        "from IPython.display import Markdown\n",
        "\n",
        "def to_markdown(text):\n",
        "  text = text.replace('•', '  *')\n",
        "  return Markdown(textwrap.indent(text, '> ', predicate=lambda _: True))"
      ],
      "metadata": {
        "id": "TsTtLUl8D0PE"
      },
      "execution_count": 49,
      "outputs": []
    },
    {
      "cell_type": "code",
      "source": [
        "chat = model.start_chat(history=[])"
      ],
      "metadata": {
        "id": "1jQO5fREAY5P"
      },
      "execution_count": 50,
      "outputs": []
    },
    {
      "cell_type": "markdown",
      "source": [
        "### **Imprimindo o histórico**"
      ],
      "metadata": {
        "id": "KOQxWTtQD7mF"
      }
    },
    {
      "cell_type": "code",
      "source": [
        "for message in chat.history:\n",
        "  display(to_markdown(f'**{message.role}**: {message.parts[0].text}'))\n",
        "  print('-------------------------------------------')"
      ],
      "metadata": {
        "id": "MIp42YMwD5-f"
      },
      "execution_count": 51,
      "outputs": []
    },
    {
      "cell_type": "markdown",
      "source": [
        "### **Inicializando o ChatBot**"
      ],
      "metadata": {
        "id": "ULB7-yRdLNl1"
      }
    },
    {
      "cell_type": "code",
      "source": [
        "prompt = input(\"Esperando prompt: \")\n",
        "\n",
        "while prompt != \"fim\":\n",
        "  response = chat.send_message(prompt)\n",
        "  print(\"Resposta: \", response.text, \"\\n\")\n",
        "  prompt = input(\"Esperando prompt: \")"
      ],
      "metadata": {
        "colab": {
          "base_uri": "https://localhost:8080/",
          "height": 888
        },
        "id": "cEQbzUZqAi7k",
        "outputId": "4346aa3e-5986-4ae4-a7c5-b935446a5465"
      },
      "execution_count": 52,
      "outputs": [
        {
          "name": "stdout",
          "output_type": "stream",
          "text": [
            "Esperando prompt: Tem como eu criar um sistemas que gera um orçamento da construção de uma casa passando a quantidade de materiais que vou precisar?\n",
            "Resposta:  **Etapa 1: Coletar informações**\n",
            "\n",
            "* Área da casa\n",
            "* Número de cômodos\n",
            "* Tipo de materiais desejados\n",
            "* Custos de mão de obra\n",
            "\n",
            "**Etapa 2: Calcular as quantidades de materiais**\n",
            "\n",
            "* **Fundação:** Concreto, vergalhões, brita\n",
            "* **Estrutura:** Madeira, concreto, aço\n",
            "* **Cobertura:** Telhas, vigas, calhas\n",
            "* **Paredes:** Tijolos, blocos, revestimento\n",
            "* **Piso:** Cerâmica, porcelanato, madeira\n",
            "* **Revestimentos:** Gesso, tinta, papel de parede\n",
            "* **Instalações elétricas:** Fios, tomadas, interruptores\n",
            "* **Instalações hidráulicas:** Tubos, conexões, torneiras\n",
            "\n",
            "**Etapa 3: Estimar os custos**\n",
            "\n",
            "* Obter cotações de fornecedores para materiais\n",
            "* Estimar os custos de mão de obra com base nas taxas locais\n",
            "* Adicionar custos indiretos, como transporte, impostos e seguros\n",
            "\n",
            "**Etapa 4: Criar o sistema**\n",
            "\n",
            "* **Planilha:** Crie uma planilha com as informações coletadas e fórmulas para calcular as quantidades de materiais e custos.\n",
            "* **Software:** Use um software de estimativa de construção para automatizar o processo e gerar orçamentos detalhados.\n",
            "\n",
            "**Etapa 5: Gerar o orçamento**\n",
            "\n",
            "* Insira as informações no sistema\n",
            "* O sistema calculará as quantidades de materiais e custos\n",
            "* Gere um relatório de orçamento que inclua:\n",
            "    * Quantidades de materiais\n",
            "    * Custos de materiais\n",
            "    * Custos de mão de obra\n",
            "    * Custos indiretos\n",
            "    * Custo total estimado\n",
            "\n",
            "**Dicas adicionais:**\n",
            "\n",
            "* Use dados históricos ou consulte profissionais da construção para estimar com precisão as quantidades de materiais.\n",
            "* Obtenha várias cotações de fornecedores para garantir os melhores preços.\n",
            "* Considere custos adicionais, como taxas de licenciamento e inspeções.\n",
            "* Revise o orçamento cuidadosamente e faça ajustes conforme necessário. \n",
            "\n",
            "Esperando prompt: fim\n"
          ]
        }
      ]
    }
  ]
}